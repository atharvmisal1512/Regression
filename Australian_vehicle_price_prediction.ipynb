{
 "cells": [
  {
   "cell_type": "code",
   "execution_count": 1,
   "id": "bbe35ef5-7669-4475-beba-f8c8e3c0c190",
   "metadata": {},
   "outputs": [],
   "source": [
    "# importing the libraries\n",
    "import os,sys\n",
    "import numpy as np\n",
    "import pandas as pd\n",
    "import matplotlib.pyplot as plt\n",
    "import seaborn as sns\n",
    "%matplotlib inline\n",
    "import warnings\n",
    "warnings.filterwarnings('ignore')\n",
    "from scipy import stats\n"
   ]
  },
  {
   "cell_type": "code",
   "execution_count": 2,
   "id": "18f856d5-78b3-492e-8176-d56e22fc539e",
   "metadata": {},
   "outputs": [
    {
     "data": {
      "text/html": [
       "<div>\n",
       "<style scoped>\n",
       "    .dataframe tbody tr th:only-of-type {\n",
       "        vertical-align: middle;\n",
       "    }\n",
       "\n",
       "    .dataframe tbody tr th {\n",
       "        vertical-align: top;\n",
       "    }\n",
       "\n",
       "    .dataframe thead th {\n",
       "        text-align: right;\n",
       "    }\n",
       "</style>\n",
       "<table border=\"1\" class=\"dataframe\">\n",
       "  <thead>\n",
       "    <tr style=\"text-align: right;\">\n",
       "      <th></th>\n",
       "      <th>Brand</th>\n",
       "      <th>Year</th>\n",
       "      <th>Model</th>\n",
       "      <th>Car/Suv</th>\n",
       "      <th>Title</th>\n",
       "      <th>UsedOrNew</th>\n",
       "      <th>Transmission</th>\n",
       "      <th>Engine</th>\n",
       "      <th>DriveType</th>\n",
       "      <th>FuelType</th>\n",
       "      <th>FuelConsumption</th>\n",
       "      <th>Kilometres</th>\n",
       "      <th>ColourExtInt</th>\n",
       "      <th>Location</th>\n",
       "      <th>CylindersinEngine</th>\n",
       "      <th>BodyType</th>\n",
       "      <th>Doors</th>\n",
       "      <th>Seats</th>\n",
       "      <th>Price</th>\n",
       "    </tr>\n",
       "  </thead>\n",
       "  <tbody>\n",
       "    <tr>\n",
       "      <th>0</th>\n",
       "      <td>Ssangyong</td>\n",
       "      <td>2022.0</td>\n",
       "      <td>Rexton</td>\n",
       "      <td>Sutherland Isuzu Ute</td>\n",
       "      <td>2022 Ssangyong Rexton Ultimate (awd)</td>\n",
       "      <td>DEMO</td>\n",
       "      <td>Automatic</td>\n",
       "      <td>4 cyl, 2.2 L</td>\n",
       "      <td>AWD</td>\n",
       "      <td>Diesel</td>\n",
       "      <td>8.7 L / 100 km</td>\n",
       "      <td>5595</td>\n",
       "      <td>White / Black</td>\n",
       "      <td>Caringbah, NSW</td>\n",
       "      <td>4 cyl</td>\n",
       "      <td>SUV</td>\n",
       "      <td>4 Doors</td>\n",
       "      <td>7 Seats</td>\n",
       "      <td>51990</td>\n",
       "    </tr>\n",
       "    <tr>\n",
       "      <th>1</th>\n",
       "      <td>MG</td>\n",
       "      <td>2022.0</td>\n",
       "      <td>MG3</td>\n",
       "      <td>Hatchback</td>\n",
       "      <td>2022 MG MG3 Auto Excite (with Navigation)</td>\n",
       "      <td>USED</td>\n",
       "      <td>Automatic</td>\n",
       "      <td>4 cyl, 1.5 L</td>\n",
       "      <td>Front</td>\n",
       "      <td>Premium</td>\n",
       "      <td>6.7 L / 100 km</td>\n",
       "      <td>16</td>\n",
       "      <td>Black / Black</td>\n",
       "      <td>Brookvale, NSW</td>\n",
       "      <td>4 cyl</td>\n",
       "      <td>Hatchback</td>\n",
       "      <td>5 Doors</td>\n",
       "      <td>5 Seats</td>\n",
       "      <td>19990</td>\n",
       "    </tr>\n",
       "    <tr>\n",
       "      <th>2</th>\n",
       "      <td>BMW</td>\n",
       "      <td>2022.0</td>\n",
       "      <td>430I</td>\n",
       "      <td>Coupe</td>\n",
       "      <td>2022 BMW 430I M Sport</td>\n",
       "      <td>USED</td>\n",
       "      <td>Automatic</td>\n",
       "      <td>4 cyl, 2 L</td>\n",
       "      <td>Rear</td>\n",
       "      <td>Premium</td>\n",
       "      <td>6.6 L / 100 km</td>\n",
       "      <td>8472</td>\n",
       "      <td>Grey / White</td>\n",
       "      <td>Sylvania, NSW</td>\n",
       "      <td>4 cyl</td>\n",
       "      <td>Coupe</td>\n",
       "      <td>2 Doors</td>\n",
       "      <td>4 Seats</td>\n",
       "      <td>108988</td>\n",
       "    </tr>\n",
       "    <tr>\n",
       "      <th>3</th>\n",
       "      <td>Mercedes-Benz</td>\n",
       "      <td>2011.0</td>\n",
       "      <td>E500</td>\n",
       "      <td>Coupe</td>\n",
       "      <td>2011 Mercedes-Benz E500 Elegance</td>\n",
       "      <td>USED</td>\n",
       "      <td>Automatic</td>\n",
       "      <td>8 cyl, 5.5 L</td>\n",
       "      <td>Rear</td>\n",
       "      <td>Premium</td>\n",
       "      <td>11 L / 100 km</td>\n",
       "      <td>136517</td>\n",
       "      <td>White / Brown</td>\n",
       "      <td>Mount Druitt, NSW</td>\n",
       "      <td>8 cyl</td>\n",
       "      <td>Coupe</td>\n",
       "      <td>2 Doors</td>\n",
       "      <td>4 Seats</td>\n",
       "      <td>32990</td>\n",
       "    </tr>\n",
       "    <tr>\n",
       "      <th>4</th>\n",
       "      <td>Renault</td>\n",
       "      <td>2022.0</td>\n",
       "      <td>Arkana</td>\n",
       "      <td>SUV</td>\n",
       "      <td>2022 Renault Arkana Intens</td>\n",
       "      <td>USED</td>\n",
       "      <td>Automatic</td>\n",
       "      <td>4 cyl, 1.3 L</td>\n",
       "      <td>Front</td>\n",
       "      <td>Unleaded</td>\n",
       "      <td>6 L / 100 km</td>\n",
       "      <td>1035</td>\n",
       "      <td>Grey / Black</td>\n",
       "      <td>Castle Hill, NSW</td>\n",
       "      <td>4 cyl</td>\n",
       "      <td>SUV</td>\n",
       "      <td>4 Doors</td>\n",
       "      <td>5 Seats</td>\n",
       "      <td>34990</td>\n",
       "    </tr>\n",
       "  </tbody>\n",
       "</table>\n",
       "</div>"
      ],
      "text/plain": [
       "           Brand    Year   Model               Car/Suv  \\\n",
       "0      Ssangyong  2022.0  Rexton  Sutherland Isuzu Ute   \n",
       "1             MG  2022.0     MG3             Hatchback   \n",
       "2            BMW  2022.0    430I                 Coupe   \n",
       "3  Mercedes-Benz  2011.0    E500                 Coupe   \n",
       "4        Renault  2022.0  Arkana                   SUV   \n",
       "\n",
       "                                       Title UsedOrNew Transmission  \\\n",
       "0       2022 Ssangyong Rexton Ultimate (awd)      DEMO    Automatic   \n",
       "1  2022 MG MG3 Auto Excite (with Navigation)      USED    Automatic   \n",
       "2                      2022 BMW 430I M Sport      USED    Automatic   \n",
       "3           2011 Mercedes-Benz E500 Elegance      USED    Automatic   \n",
       "4                 2022 Renault Arkana Intens      USED    Automatic   \n",
       "\n",
       "         Engine DriveType  FuelType FuelConsumption Kilometres   ColourExtInt  \\\n",
       "0  4 cyl, 2.2 L       AWD    Diesel  8.7 L / 100 km       5595  White / Black   \n",
       "1  4 cyl, 1.5 L     Front   Premium  6.7 L / 100 km         16  Black / Black   \n",
       "2    4 cyl, 2 L      Rear   Premium  6.6 L / 100 km       8472   Grey / White   \n",
       "3  8 cyl, 5.5 L      Rear   Premium   11 L / 100 km     136517  White / Brown   \n",
       "4  4 cyl, 1.3 L     Front  Unleaded    6 L / 100 km       1035   Grey / Black   \n",
       "\n",
       "            Location CylindersinEngine   BodyType     Doors     Seats   Price  \n",
       "0     Caringbah, NSW             4 cyl        SUV   4 Doors   7 Seats   51990  \n",
       "1     Brookvale, NSW             4 cyl  Hatchback   5 Doors   5 Seats   19990  \n",
       "2      Sylvania, NSW             4 cyl      Coupe   2 Doors   4 Seats  108988  \n",
       "3  Mount Druitt, NSW             8 cyl      Coupe   2 Doors   4 Seats   32990  \n",
       "4   Castle Hill, NSW             4 cyl        SUV   4 Doors   5 Seats   34990  "
      ]
     },
     "execution_count": 2,
     "metadata": {},
     "output_type": "execute_result"
    }
   ],
   "source": [
    "# import file\n",
    "df=pd.read_csv('Australian_Vehicle_Prices.csv')\n",
    "df.head()"
   ]
  },
  {
   "cell_type": "code",
   "execution_count": 3,
   "id": "000bd3b6-6940-4b03-9dbb-f570933769bb",
   "metadata": {},
   "outputs": [],
   "source": [
    "data=pd.read_csv('Australian_Vehicle_Prices.csv')"
   ]
  },
  {
   "cell_type": "code",
   "execution_count": 4,
   "id": "8371e9fe-5820-4135-bcaa-cda908058797",
   "metadata": {},
   "outputs": [
    {
     "data": {
      "text/plain": [
       "Brand                   1\n",
       "Year                    1\n",
       "Model                   1\n",
       "Car/Suv                28\n",
       "Title                   1\n",
       "UsedOrNew               1\n",
       "Transmission            1\n",
       "Engine                  1\n",
       "DriveType               1\n",
       "FuelType                1\n",
       "FuelConsumption         1\n",
       "Kilometres              1\n",
       "ColourExtInt            1\n",
       "Location              450\n",
       "CylindersinEngine       1\n",
       "BodyType              282\n",
       "Doors                1604\n",
       "Seats                1705\n",
       "Price                   3\n",
       "dtype: int64"
      ]
     },
     "execution_count": 4,
     "metadata": {},
     "output_type": "execute_result"
    }
   ],
   "source": [
    "df.isnull().sum()"
   ]
  },
  {
   "cell_type": "code",
   "execution_count": 5,
   "id": "ba86af70-6a4d-4c9d-8146-463d547d33e7",
   "metadata": {},
   "outputs": [
    {
     "name": "stdout",
     "output_type": "stream",
     "text": [
      "<class 'pandas.core.frame.DataFrame'>\n",
      "RangeIndex: 16734 entries, 0 to 16733\n",
      "Data columns (total 19 columns):\n",
      " #   Column             Non-Null Count  Dtype  \n",
      "---  ------             --------------  -----  \n",
      " 0   Brand              16733 non-null  object \n",
      " 1   Year               16733 non-null  float64\n",
      " 2   Model              16733 non-null  object \n",
      " 3   Car/Suv            16706 non-null  object \n",
      " 4   Title              16733 non-null  object \n",
      " 5   UsedOrNew          16733 non-null  object \n",
      " 6   Transmission       16733 non-null  object \n",
      " 7   Engine             16733 non-null  object \n",
      " 8   DriveType          16733 non-null  object \n",
      " 9   FuelType           16733 non-null  object \n",
      " 10  FuelConsumption    16733 non-null  object \n",
      " 11  Kilometres         16733 non-null  object \n",
      " 12  ColourExtInt       16733 non-null  object \n",
      " 13  Location           16284 non-null  object \n",
      " 14  CylindersinEngine  16733 non-null  object \n",
      " 15  BodyType           16452 non-null  object \n",
      " 16  Doors              15130 non-null  object \n",
      " 17  Seats              15029 non-null  object \n",
      " 18  Price              16731 non-null  object \n",
      "dtypes: float64(1), object(18)\n",
      "memory usage: 2.4+ MB\n"
     ]
    }
   ],
   "source": [
    "df.info()"
   ]
  },
  {
   "cell_type": "code",
   "execution_count": 6,
   "id": "85d8f445-6202-43f5-9bb3-285039eb6c58",
   "metadata": {},
   "outputs": [
    {
     "data": {
      "text/plain": [
       "(16734, 19)"
      ]
     },
     "execution_count": 6,
     "metadata": {},
     "output_type": "execute_result"
    }
   ],
   "source": [
    "df.shape"
   ]
  },
  {
   "cell_type": "code",
   "execution_count": 7,
   "id": "4d523475-269f-408c-a940-03c76b96ecd3",
   "metadata": {},
   "outputs": [],
   "source": [
    "df = df.dropna()"
   ]
  },
  {
   "cell_type": "code",
   "execution_count": 8,
   "id": "05fef55e-49bc-4187-838a-5cc23f5691d8",
   "metadata": {},
   "outputs": [
    {
     "name": "stdout",
     "output_type": "stream",
     "text": [
      "<class 'pandas.core.frame.DataFrame'>\n",
      "Index: 14586 entries, 0 to 16733\n",
      "Data columns (total 19 columns):\n",
      " #   Column             Non-Null Count  Dtype  \n",
      "---  ------             --------------  -----  \n",
      " 0   Brand              14586 non-null  object \n",
      " 1   Year               14586 non-null  float64\n",
      " 2   Model              14586 non-null  object \n",
      " 3   Car/Suv            14586 non-null  object \n",
      " 4   Title              14586 non-null  object \n",
      " 5   UsedOrNew          14586 non-null  object \n",
      " 6   Transmission       14586 non-null  object \n",
      " 7   Engine             14586 non-null  object \n",
      " 8   DriveType          14586 non-null  object \n",
      " 9   FuelType           14586 non-null  object \n",
      " 10  FuelConsumption    14586 non-null  object \n",
      " 11  Kilometres         14586 non-null  object \n",
      " 12  ColourExtInt       14586 non-null  object \n",
      " 13  Location           14586 non-null  object \n",
      " 14  CylindersinEngine  14586 non-null  object \n",
      " 15  BodyType           14586 non-null  object \n",
      " 16  Doors              14586 non-null  object \n",
      " 17  Seats              14586 non-null  object \n",
      " 18  Price              14586 non-null  object \n",
      "dtypes: float64(1), object(18)\n",
      "memory usage: 2.2+ MB\n"
     ]
    }
   ],
   "source": [
    "df.info()"
   ]
  },
  {
   "cell_type": "code",
   "execution_count": 9,
   "id": "dc18ce66-80e4-4391-8b94-9aee29858e6f",
   "metadata": {},
   "outputs": [],
   "source": [
    "df = df.drop(columns=['Title', 'Car/Suv', 'ColourExtInt', 'Location'])\n"
   ]
  },
  {
   "cell_type": "code",
   "execution_count": 10,
   "id": "3764a886-64f1-49ca-b3a6-705b7a6ce257",
   "metadata": {},
   "outputs": [],
   "source": [
    "df = df.rename(columns={\"CylindersinEngine\": \"Cylinders\"})"
   ]
  },
  {
   "cell_type": "code",
   "execution_count": 11,
   "id": "8d0ad733-be4c-4d37-b670-c05fefffb114",
   "metadata": {},
   "outputs": [
    {
     "data": {
      "text/plain": [
       "array(['Automatic', 'Manual', '-'], dtype=object)"
      ]
     },
     "execution_count": 11,
     "metadata": {},
     "output_type": "execute_result"
    }
   ],
   "source": [
    "df.Transmission.unique()"
   ]
  },
  {
   "cell_type": "code",
   "execution_count": 12,
   "id": "b9eaab7b-92a9-4788-a7ee-0959a46f579d",
   "metadata": {},
   "outputs": [],
   "source": [
    "df = df.query('Transmission != \"-\"')"
   ]
  },
  {
   "cell_type": "code",
   "execution_count": 13,
   "id": "5250ba41-a866-4dd8-8526-29b44479aa4f",
   "metadata": {},
   "outputs": [
    {
     "data": {
      "text/plain": [
       "array(['Automatic', 'Manual'], dtype=object)"
      ]
     },
     "execution_count": 13,
     "metadata": {},
     "output_type": "execute_result"
    }
   ],
   "source": [
    "df.Transmission.unique()\n"
   ]
  },
  {
   "cell_type": "code",
   "execution_count": 14,
   "id": "2bf5ad9f-4cab-467d-ac19-6ab868f2e267",
   "metadata": {},
   "outputs": [
    {
     "data": {
      "text/plain": [
       "array(['4 cyl, 2.2 L', '4 cyl, 1.5 L', '4 cyl, 2 L', '8 cyl, 5.5 L',\n",
       "       '4 cyl, 1.3 L', '4 cyl, 1.6 L', '4 cyl, 2.7 L', '4 cyl, 3 L',\n",
       "       '4 cyl, 1.4 L', '3 cyl, 1 L', '4 cyl, 2.4 L', '6 cyl, 3 L',\n",
       "       '4 cyl, 2.5 L', '3 cyl, 1.2 L', '6 cyl, 2.7 L', '4 cyl, 1.8 L',\n",
       "       '6 cyl, 4 L', '6 cyl, 3.5 L', '6 cyl, 3.2 L', '8 cyl, 6 L',\n",
       "       '5 cyl, 3.2 L', '4 cyl, 2.3 L', '8 cyl, 4.1 L', '6 cyl, 3.6 L',\n",
       "       '4 cyl, 1.2 L', '8 cyl, 4.8 L', '6 cyl, 3.8 L', '5 cyl, 2.5 L',\n",
       "       '6 cyl, 3.3 L', '6 cyl, 4.2 L', '3 cyl, 1.5 L', '4 cyl, 2.8 L',\n",
       "       '8 cyl, 4.5 L', '12 cyl, 6.6 L', '6 cyl, 3.7 L', '4 cyl, 2.1 L',\n",
       "       '3 cyl, 1.3 L', '8 cyl, 4.4 L', '8 cyl, 5 L', '8 cyl, 4.2 L',\n",
       "       '3 cyl, 1.6 L', '4 cyl, 1.9 L', '6 cyl, 2.5 L', '0 L',\n",
       "       '8 cyl, 4 L', '8 cyl, 5.7 L', '4 cyl, 3.2 L', '2 cyl, 0.9 L',\n",
       "       '8 cyl, 6.2 L', '8 cyl, 4.7 L', '6 cyl, 2.4 L', '4 cyl, 1.7 L',\n",
       "       '5 cyl, 2.4 L', '8 cyl, 4.6 L', '8 cyl, 6.4 L', '6 cyl, 2.8 L',\n",
       "       '6 cyl, 2.9 L', '8 cyl, 5.4 L', '6 cyl, 2.2 L', '8 cyl, 6.8 L',\n",
       "       '8 cyl, 5.6 L', '8 cyl, 3.6 L', '8 cyl, 3 L', '6 cyl, 4.5 L',\n",
       "       '12 cyl, 5.3 L', '8 cyl, 4.9 L', '8 cyl, 3.8 L', '12 cyl, 6 L',\n",
       "       '8 cyl, 7.3 L', '2 cyl, 1.3 L', '8 cyl, 4.3 L', '6 cyl, 3.1 L',\n",
       "       '5 cyl, 2.9 L', '6 cyl, 2.6 L', '12 cyl, 6.3 L', '4 cyl, 2.9 L',\n",
       "       '10 cyl, 5 L', '4 cyl, 2.6 L', '6 cyl, 4.8 L', '6 cyl, 3.4 L',\n",
       "       '8 cyl, 3.9 L', '8 cyl, 6.1 L', '4 cyl', '12 cyl, 6.5 L',\n",
       "       '6 cyl, 2.1 L', '12 cyl, 5.7 L', '12 cyl, 5.9 L', '5 cyl, 2 L',\n",
       "       '5 cyl, 2.7 L', '3 cyl, 0.7 L', '10 cyl, 5.2 L'], dtype=object)"
      ]
     },
     "execution_count": 14,
     "metadata": {},
     "output_type": "execute_result"
    }
   ],
   "source": [
    "df.Engine.unique()\n"
   ]
  },
  {
   "cell_type": "code",
   "execution_count": 15,
   "id": "557de3d6-bf2b-44ab-ae1e-3b7e8f78b296",
   "metadata": {},
   "outputs": [],
   "source": [
    "import re"
   ]
  },
  {
   "cell_type": "code",
   "execution_count": 16,
   "id": "7e37fcab-9a9f-4ee8-b910-289f14d5d45f",
   "metadata": {},
   "outputs": [],
   "source": [
    "for i, row in df.iterrows():\n",
    "    result = re.findall(r'[-+]?(?:\\d*\\.*\\d+)', str(row.Engine))\n",
    "    df.loc[i, 'Engine'] = result[-1]"
   ]
  },
  {
   "cell_type": "code",
   "execution_count": 17,
   "id": "84cb704c-ff74-4f3d-b4f9-b1e78e63da2b",
   "metadata": {},
   "outputs": [],
   "source": [
    "df = df.rename(columns={\"Engine\": \"Displacement\"})"
   ]
  },
  {
   "cell_type": "code",
   "execution_count": 18,
   "id": "9abd9260-47a3-4b10-87d0-62ea4879d1bd",
   "metadata": {},
   "outputs": [
    {
     "data": {
      "text/plain": [
       "array(['AWD', 'Front', 'Rear', '4WD', 'Other'], dtype=object)"
      ]
     },
     "execution_count": 18,
     "metadata": {},
     "output_type": "execute_result"
    }
   ],
   "source": [
    "df.DriveType.unique()"
   ]
  },
  {
   "cell_type": "code",
   "execution_count": 19,
   "id": "43d0b277-2f56-41c0-92c1-a3e8b937b72d",
   "metadata": {},
   "outputs": [],
   "source": [
    "df = df.query('DriveType != \"Other\"')\n"
   ]
  },
  {
   "cell_type": "code",
   "execution_count": 20,
   "id": "0707f6b6-98b8-4434-9cbf-8598f32672b1",
   "metadata": {},
   "outputs": [
    {
     "data": {
      "text/plain": [
       "array(['Diesel', 'Premium', 'Unleaded', 'Hybrid', '-', 'Electric', 'LPG',\n",
       "       'Leaded'], dtype=object)"
      ]
     },
     "execution_count": 20,
     "metadata": {},
     "output_type": "execute_result"
    }
   ],
   "source": [
    "df.FuelType.unique()"
   ]
  },
  {
   "cell_type": "code",
   "execution_count": 21,
   "id": "4ca9bb76-bf03-4aef-8e04-7de495637d59",
   "metadata": {},
   "outputs": [
    {
     "data": {
      "text/html": [
       "<div>\n",
       "<style scoped>\n",
       "    .dataframe tbody tr th:only-of-type {\n",
       "        vertical-align: middle;\n",
       "    }\n",
       "\n",
       "    .dataframe tbody tr th {\n",
       "        vertical-align: top;\n",
       "    }\n",
       "\n",
       "    .dataframe thead th {\n",
       "        text-align: right;\n",
       "    }\n",
       "</style>\n",
       "<table border=\"1\" class=\"dataframe\">\n",
       "  <thead>\n",
       "    <tr style=\"text-align: right;\">\n",
       "      <th></th>\n",
       "      <th>Brand</th>\n",
       "      <th>Year</th>\n",
       "      <th>Model</th>\n",
       "      <th>UsedOrNew</th>\n",
       "      <th>Transmission</th>\n",
       "      <th>Displacement</th>\n",
       "      <th>DriveType</th>\n",
       "      <th>FuelType</th>\n",
       "      <th>FuelConsumption</th>\n",
       "      <th>Kilometres</th>\n",
       "      <th>Cylinders</th>\n",
       "      <th>BodyType</th>\n",
       "      <th>Doors</th>\n",
       "      <th>Seats</th>\n",
       "      <th>Price</th>\n",
       "    </tr>\n",
       "  </thead>\n",
       "  <tbody>\n",
       "    <tr>\n",
       "      <th>0</th>\n",
       "      <td>Ssangyong</td>\n",
       "      <td>2022.0</td>\n",
       "      <td>Rexton</td>\n",
       "      <td>DEMO</td>\n",
       "      <td>Automatic</td>\n",
       "      <td>2.2</td>\n",
       "      <td>AWD</td>\n",
       "      <td>Diesel</td>\n",
       "      <td>8.7 L / 100 km</td>\n",
       "      <td>5595</td>\n",
       "      <td>4 cyl</td>\n",
       "      <td>SUV</td>\n",
       "      <td>4 Doors</td>\n",
       "      <td>7 Seats</td>\n",
       "      <td>51990</td>\n",
       "    </tr>\n",
       "    <tr>\n",
       "      <th>1</th>\n",
       "      <td>MG</td>\n",
       "      <td>2022.0</td>\n",
       "      <td>MG3</td>\n",
       "      <td>USED</td>\n",
       "      <td>Automatic</td>\n",
       "      <td>1.5</td>\n",
       "      <td>Front</td>\n",
       "      <td>Premium</td>\n",
       "      <td>6.7 L / 100 km</td>\n",
       "      <td>16</td>\n",
       "      <td>4 cyl</td>\n",
       "      <td>Hatchback</td>\n",
       "      <td>5 Doors</td>\n",
       "      <td>5 Seats</td>\n",
       "      <td>19990</td>\n",
       "    </tr>\n",
       "    <tr>\n",
       "      <th>2</th>\n",
       "      <td>BMW</td>\n",
       "      <td>2022.0</td>\n",
       "      <td>430I</td>\n",
       "      <td>USED</td>\n",
       "      <td>Automatic</td>\n",
       "      <td>2</td>\n",
       "      <td>Rear</td>\n",
       "      <td>Premium</td>\n",
       "      <td>6.6 L / 100 km</td>\n",
       "      <td>8472</td>\n",
       "      <td>4 cyl</td>\n",
       "      <td>Coupe</td>\n",
       "      <td>2 Doors</td>\n",
       "      <td>4 Seats</td>\n",
       "      <td>108988</td>\n",
       "    </tr>\n",
       "    <tr>\n",
       "      <th>3</th>\n",
       "      <td>Mercedes-Benz</td>\n",
       "      <td>2011.0</td>\n",
       "      <td>E500</td>\n",
       "      <td>USED</td>\n",
       "      <td>Automatic</td>\n",
       "      <td>5.5</td>\n",
       "      <td>Rear</td>\n",
       "      <td>Premium</td>\n",
       "      <td>11 L / 100 km</td>\n",
       "      <td>136517</td>\n",
       "      <td>8 cyl</td>\n",
       "      <td>Coupe</td>\n",
       "      <td>2 Doors</td>\n",
       "      <td>4 Seats</td>\n",
       "      <td>32990</td>\n",
       "    </tr>\n",
       "    <tr>\n",
       "      <th>4</th>\n",
       "      <td>Renault</td>\n",
       "      <td>2022.0</td>\n",
       "      <td>Arkana</td>\n",
       "      <td>USED</td>\n",
       "      <td>Automatic</td>\n",
       "      <td>1.3</td>\n",
       "      <td>Front</td>\n",
       "      <td>Unleaded</td>\n",
       "      <td>6 L / 100 km</td>\n",
       "      <td>1035</td>\n",
       "      <td>4 cyl</td>\n",
       "      <td>SUV</td>\n",
       "      <td>4 Doors</td>\n",
       "      <td>5 Seats</td>\n",
       "      <td>34990</td>\n",
       "    </tr>\n",
       "  </tbody>\n",
       "</table>\n",
       "</div>"
      ],
      "text/plain": [
       "           Brand    Year   Model UsedOrNew Transmission Displacement  \\\n",
       "0      Ssangyong  2022.0  Rexton      DEMO    Automatic          2.2   \n",
       "1             MG  2022.0     MG3      USED    Automatic          1.5   \n",
       "2            BMW  2022.0    430I      USED    Automatic            2   \n",
       "3  Mercedes-Benz  2011.0    E500      USED    Automatic          5.5   \n",
       "4        Renault  2022.0  Arkana      USED    Automatic          1.3   \n",
       "\n",
       "  DriveType  FuelType FuelConsumption Kilometres Cylinders   BodyType  \\\n",
       "0       AWD    Diesel  8.7 L / 100 km       5595     4 cyl        SUV   \n",
       "1     Front   Premium  6.7 L / 100 km         16     4 cyl  Hatchback   \n",
       "2      Rear   Premium  6.6 L / 100 km       8472     4 cyl      Coupe   \n",
       "3      Rear   Premium   11 L / 100 km     136517     8 cyl      Coupe   \n",
       "4     Front  Unleaded    6 L / 100 km       1035     4 cyl        SUV   \n",
       "\n",
       "      Doors     Seats   Price  \n",
       "0   4 Doors   7 Seats   51990  \n",
       "1   5 Doors   5 Seats   19990  \n",
       "2   2 Doors   4 Seats  108988  \n",
       "3   2 Doors   4 Seats   32990  \n",
       "4   4 Doors   5 Seats   34990  "
      ]
     },
     "execution_count": 21,
     "metadata": {},
     "output_type": "execute_result"
    }
   ],
   "source": [
    "df.head()"
   ]
  },
  {
   "cell_type": "code",
   "execution_count": 22,
   "id": "ad83741a-b79f-4bd0-98fc-5449a3b26787",
   "metadata": {},
   "outputs": [],
   "source": [
    "df = df.query('FuelType != \"-\"')"
   ]
  },
  {
   "cell_type": "code",
   "execution_count": 23,
   "id": "2e71cb68-110a-4b03-add3-87d50cba857d",
   "metadata": {},
   "outputs": [],
   "source": [
    "for i, row in df.iterrows():\n",
    "    if row.FuelConsumption:\n",
    "        df.loc[i, 'FuelConsumption'] = str(row.FuelConsumption).replace(\" L / 100 km\", \"\")\n",
    "    else:\n",
    "        df.loc[i, 'FuelConsumption'] = '0'"
   ]
  },
  {
   "cell_type": "code",
   "execution_count": 24,
   "id": "37bf2ca2-d6f4-4b1f-8198-6685da0dcd6e",
   "metadata": {},
   "outputs": [],
   "source": [
    "for i, row in df.iterrows():\n",
    "    result = re.search(r'[-+]?(?:\\d*\\.*\\d+)', str(row.Cylinders))\n",
    "    if result:\n",
    "        df.loc[i, 'Cylinders'] = result.group(0)\n",
    "    else:\n",
    "        df.loc[i, 'Cylinders'] = '0'\n"
   ]
  },
  {
   "cell_type": "code",
   "execution_count": 25,
   "id": "f80858a3-7d85-4cf4-bbf7-c189b79ea452",
   "metadata": {},
   "outputs": [
    {
     "data": {
      "text/plain": [
       "array(['4', '8', '3', '6', '5', '12', '0', '2', '10'], dtype=object)"
      ]
     },
     "execution_count": 25,
     "metadata": {},
     "output_type": "execute_result"
    }
   ],
   "source": [
    "df.Cylinders.unique()\n"
   ]
  },
  {
   "cell_type": "code",
   "execution_count": 26,
   "id": "72218655-db6d-4195-8230-a0f6ff315b8f",
   "metadata": {},
   "outputs": [
    {
     "data": {
      "text/plain": [
       "array([' 4 Doors', ' 5 Doors', ' 2 Doors', ' 3 Doors'], dtype=object)"
      ]
     },
     "execution_count": 26,
     "metadata": {},
     "output_type": "execute_result"
    }
   ],
   "source": [
    "df.Doors.unique()"
   ]
  },
  {
   "cell_type": "code",
   "execution_count": 27,
   "id": "cbd441fe-5f16-4e76-b273-1fc334212f10",
   "metadata": {},
   "outputs": [],
   "source": [
    "for i, row in df.iterrows():\n",
    "    result = re.search(r'[-+]?(?:\\d*\\.*\\d+)', str(row.Doors))\n",
    "    if result:\n",
    "        df.loc[i, 'Doors'] = result.group(0)\n",
    "    else:\n",
    "        df.loc[i, 'Doors'] = '0'"
   ]
  },
  {
   "cell_type": "code",
   "execution_count": 28,
   "id": "f157889f-d341-442a-a9d2-8ed4986fdd05",
   "metadata": {},
   "outputs": [
    {
     "data": {
      "text/plain": [
       "array([' 7 Seats', ' 5 Seats', ' 4 Seats', ' 2 Seats', ' 3 Seats',\n",
       "       ' 14 Seats', ' 8 Seats', ' 6 Seats', ' 9 Seats', ' 11 Seats',\n",
       "       ' 12 Seats', ' 22 Seats'], dtype=object)"
      ]
     },
     "execution_count": 28,
     "metadata": {},
     "output_type": "execute_result"
    }
   ],
   "source": [
    "df.Seats.unique()"
   ]
  },
  {
   "cell_type": "code",
   "execution_count": 29,
   "id": "36c9d1e2-eb55-428c-9533-039f1b81f383",
   "metadata": {},
   "outputs": [],
   "source": [
    "for i, row in df.iterrows():\n",
    "    result = re.search(r'[-+]?(?:\\d*\\.*\\d+)', str(row.Seats))\n",
    "    if result:\n",
    "        df.loc[i, 'Seats'] = result.group(0)\n",
    "    else:\n",
    "        data.loc[i, 'Seats'] = '0'"
   ]
  },
  {
   "cell_type": "code",
   "execution_count": 30,
   "id": "c1617461-0a47-46f5-b9db-4c98f5d8b977",
   "metadata": {},
   "outputs": [
    {
     "data": {
      "text/plain": [
       "array(['SUV', 'Hatchback', 'Coupe', 'Commercial', 'Ute / Tray', 'Sedan',\n",
       "       'People Mover', 'Convertible', 'Wagon', 'Other'], dtype=object)"
      ]
     },
     "execution_count": 30,
     "metadata": {},
     "output_type": "execute_result"
    }
   ],
   "source": [
    "df.BodyType.unique()"
   ]
  },
  {
   "cell_type": "code",
   "execution_count": 31,
   "id": "0abde9e1-8604-4aa9-a02c-239ba5e7de16",
   "metadata": {},
   "outputs": [],
   "source": [
    "df.Displacement = pd.to_numeric(df.Displacement, errors='coerce')\n",
    "df.FuelConsumption = pd.to_numeric(df.FuelConsumption, errors='coerce')\n",
    "df.Kilometres = pd.to_numeric(df.Kilometres, errors='coerce')\n",
    "df.Cylinders = pd.to_numeric(df.Cylinders, errors='coerce').astype(int)\n",
    "df.Doors = pd.to_numeric(df.Doors, errors='coerce')\n",
    "df.Seats = pd.to_numeric(df.Seats, errors='coerce')\n",
    "df.Price = pd.to_numeric(df.Price, errors='coerce')"
   ]
  },
  {
   "cell_type": "code",
   "execution_count": 32,
   "id": "b893fee6-bc00-44f7-9951-391439575713",
   "metadata": {},
   "outputs": [],
   "source": [
    "q1 = df.Price.quantile(0.25)\n",
    "q3 = df.Price.quantile(0.75)\n",
    "iqr = q3 - q1\n",
    "low = q1 - 1.5 * iqr\n",
    "high = q3 + 1.5 * iqr\n",
    "df = df[(df.Price >= low) & (df.Price <= high)]"
   ]
  },
  {
   "cell_type": "code",
   "execution_count": 33,
   "id": "5a7f56fa-ba9b-4887-b5f1-d8f7ab74794d",
   "metadata": {},
   "outputs": [
    {
     "name": "stdout",
     "output_type": "stream",
     "text": [
      "<class 'pandas.core.frame.DataFrame'>\n",
      "RangeIndex: 13547 entries, 0 to 13546\n",
      "Data columns (total 15 columns):\n",
      " #   Column           Non-Null Count  Dtype  \n",
      "---  ------           --------------  -----  \n",
      " 0   Brand            13547 non-null  object \n",
      " 1   Year             13547 non-null  float64\n",
      " 2   Model            13547 non-null  object \n",
      " 3   UsedOrNew        13547 non-null  object \n",
      " 4   Transmission     13547 non-null  object \n",
      " 5   Displacement     13547 non-null  float64\n",
      " 6   DriveType        13547 non-null  object \n",
      " 7   FuelType         13547 non-null  object \n",
      " 8   FuelConsumption  13547 non-null  float64\n",
      " 9   Kilometres       13547 non-null  float64\n",
      " 10  Cylinders        13547 non-null  int32  \n",
      " 11  BodyType         13547 non-null  object \n",
      " 12  Doors            13547 non-null  int64  \n",
      " 13  Seats            13547 non-null  int64  \n",
      " 14  Price            13547 non-null  float64\n",
      "dtypes: float64(5), int32(1), int64(2), object(7)\n",
      "memory usage: 1.5+ MB\n"
     ]
    }
   ],
   "source": [
    "df.dropna(inplace=True)\n",
    "df = df.reset_index(drop=True)\n",
    "df.info()"
   ]
  },
  {
   "cell_type": "code",
   "execution_count": 34,
   "id": "598ccbd3-c79c-47fb-a2fb-389ba2174df3",
   "metadata": {},
   "outputs": [
    {
     "data": {
      "text/html": [
       "<div>\n",
       "<style scoped>\n",
       "    .dataframe tbody tr th:only-of-type {\n",
       "        vertical-align: middle;\n",
       "    }\n",
       "\n",
       "    .dataframe tbody tr th {\n",
       "        vertical-align: top;\n",
       "    }\n",
       "\n",
       "    .dataframe thead th {\n",
       "        text-align: right;\n",
       "    }\n",
       "</style>\n",
       "<table border=\"1\" class=\"dataframe\">\n",
       "  <thead>\n",
       "    <tr style=\"text-align: right;\">\n",
       "      <th></th>\n",
       "      <th>Brand</th>\n",
       "      <th>Year</th>\n",
       "      <th>Model</th>\n",
       "      <th>UsedOrNew</th>\n",
       "      <th>Transmission</th>\n",
       "      <th>Displacement</th>\n",
       "      <th>DriveType</th>\n",
       "      <th>FuelType</th>\n",
       "      <th>FuelConsumption</th>\n",
       "      <th>Kilometres</th>\n",
       "      <th>Cylinders</th>\n",
       "      <th>BodyType</th>\n",
       "      <th>Doors</th>\n",
       "      <th>Seats</th>\n",
       "      <th>Price</th>\n",
       "    </tr>\n",
       "  </thead>\n",
       "  <tbody>\n",
       "    <tr>\n",
       "      <th>0</th>\n",
       "      <td>Ssangyong</td>\n",
       "      <td>2022.0</td>\n",
       "      <td>Rexton</td>\n",
       "      <td>DEMO</td>\n",
       "      <td>Automatic</td>\n",
       "      <td>2.2</td>\n",
       "      <td>AWD</td>\n",
       "      <td>Diesel</td>\n",
       "      <td>8.7</td>\n",
       "      <td>5595.0</td>\n",
       "      <td>4</td>\n",
       "      <td>SUV</td>\n",
       "      <td>4</td>\n",
       "      <td>7</td>\n",
       "      <td>51990.0</td>\n",
       "    </tr>\n",
       "    <tr>\n",
       "      <th>1</th>\n",
       "      <td>MG</td>\n",
       "      <td>2022.0</td>\n",
       "      <td>MG3</td>\n",
       "      <td>USED</td>\n",
       "      <td>Automatic</td>\n",
       "      <td>1.5</td>\n",
       "      <td>Front</td>\n",
       "      <td>Premium</td>\n",
       "      <td>6.7</td>\n",
       "      <td>16.0</td>\n",
       "      <td>4</td>\n",
       "      <td>Hatchback</td>\n",
       "      <td>5</td>\n",
       "      <td>5</td>\n",
       "      <td>19990.0</td>\n",
       "    </tr>\n",
       "    <tr>\n",
       "      <th>2</th>\n",
       "      <td>Mercedes-Benz</td>\n",
       "      <td>2011.0</td>\n",
       "      <td>E500</td>\n",
       "      <td>USED</td>\n",
       "      <td>Automatic</td>\n",
       "      <td>5.5</td>\n",
       "      <td>Rear</td>\n",
       "      <td>Premium</td>\n",
       "      <td>11.0</td>\n",
       "      <td>136517.0</td>\n",
       "      <td>8</td>\n",
       "      <td>Coupe</td>\n",
       "      <td>2</td>\n",
       "      <td>4</td>\n",
       "      <td>32990.0</td>\n",
       "    </tr>\n",
       "    <tr>\n",
       "      <th>3</th>\n",
       "      <td>Renault</td>\n",
       "      <td>2022.0</td>\n",
       "      <td>Arkana</td>\n",
       "      <td>USED</td>\n",
       "      <td>Automatic</td>\n",
       "      <td>1.3</td>\n",
       "      <td>Front</td>\n",
       "      <td>Unleaded</td>\n",
       "      <td>6.0</td>\n",
       "      <td>1035.0</td>\n",
       "      <td>4</td>\n",
       "      <td>SUV</td>\n",
       "      <td>4</td>\n",
       "      <td>5</td>\n",
       "      <td>34990.0</td>\n",
       "    </tr>\n",
       "    <tr>\n",
       "      <th>4</th>\n",
       "      <td>Land</td>\n",
       "      <td>2017.0</td>\n",
       "      <td>Rover</td>\n",
       "      <td>USED</td>\n",
       "      <td>Automatic</td>\n",
       "      <td>2.0</td>\n",
       "      <td>AWD</td>\n",
       "      <td>Diesel</td>\n",
       "      <td>5.1</td>\n",
       "      <td>67662.0</td>\n",
       "      <td>4</td>\n",
       "      <td>SUV</td>\n",
       "      <td>2</td>\n",
       "      <td>4</td>\n",
       "      <td>62280.0</td>\n",
       "    </tr>\n",
       "  </tbody>\n",
       "</table>\n",
       "</div>"
      ],
      "text/plain": [
       "           Brand    Year   Model UsedOrNew Transmission  Displacement  \\\n",
       "0      Ssangyong  2022.0  Rexton      DEMO    Automatic           2.2   \n",
       "1             MG  2022.0     MG3      USED    Automatic           1.5   \n",
       "2  Mercedes-Benz  2011.0    E500      USED    Automatic           5.5   \n",
       "3        Renault  2022.0  Arkana      USED    Automatic           1.3   \n",
       "4           Land  2017.0   Rover      USED    Automatic           2.0   \n",
       "\n",
       "  DriveType  FuelType  FuelConsumption  Kilometres  Cylinders   BodyType  \\\n",
       "0       AWD    Diesel              8.7      5595.0          4        SUV   \n",
       "1     Front   Premium              6.7        16.0          4  Hatchback   \n",
       "2      Rear   Premium             11.0    136517.0          8      Coupe   \n",
       "3     Front  Unleaded              6.0      1035.0          4        SUV   \n",
       "4       AWD    Diesel              5.1     67662.0          4        SUV   \n",
       "\n",
       "   Doors  Seats    Price  \n",
       "0      4      7  51990.0  \n",
       "1      5      5  19990.0  \n",
       "2      2      4  32990.0  \n",
       "3      4      5  34990.0  \n",
       "4      2      4  62280.0  "
      ]
     },
     "execution_count": 34,
     "metadata": {},
     "output_type": "execute_result"
    }
   ],
   "source": [
    "df.head()"
   ]
  },
  {
   "cell_type": "code",
   "execution_count": 35,
   "id": "593f7031-8298-438b-86ed-864282cd2e7a",
   "metadata": {},
   "outputs": [
    {
     "data": {
      "text/plain": [
       "<seaborn.axisgrid.FacetGrid at 0x1a05074bb90>"
      ]
     },
     "execution_count": 35,
     "metadata": {},
     "output_type": "execute_result"
    },
    {
     "data": {
      "image/png": "[encoded data removed]",
      "text/plain": [
       "<Figure size 511.111x500 with 1 Axes>"
      ]
     },
     "metadata": {},
     "output_type": "display_data"
    }
   ],
   "source": [
    "sns.catplot(data=df,x='FuelType',kind='count')"
   ]
  },
  {
   "cell_type": "code",
   "execution_count": 36,
   "id": "921747e9-5af3-4d94-8813-df66523dc4e8",
   "metadata": {},
   "outputs": [
    {
     "data": {
      "text/plain": [
       "<seaborn.axisgrid.FacetGrid at 0x1a0570cefd0>"
      ]
     },
     "execution_count": 36,
     "metadata": {},
     "output_type": "execute_result"
    },
    {
     "data": {
      "image/png": "[encoded data removed]",
      "text/plain": [
       "<Figure size 511.111x500 with 1 Axes>"
      ]
     },
     "metadata": {},
     "output_type": "display_data"
    }
   ],
   "source": [
    "sns.catplot(data=df,x='Transmission',kind='count')"
   ]
  },
  {
   "cell_type": "code",
   "execution_count": 37,
   "id": "d3a0a939-62e4-4c1c-8ac2-75f975bc3449",
   "metadata": {},
   "outputs": [
    {
     "data": {
      "text/plain": [
       "<seaborn.axisgrid.FacetGrid at 0x1a0565a1510>"
      ]
     },
     "execution_count": 37,
     "metadata": {},
     "output_type": "execute_result"
    },
    {
     "data": {
      "image/png": "[encoded data removed]",
      "text/plain": [
       "<Figure size 1011.11x500 with 1 Axes>"
      ]
     },
     "metadata": {},
     "output_type": "display_data"
    }
   ],
   "source": [
    "sns.catplot(data=df,x='BodyType',kind='count',height=5,aspect=2)"
   ]
  },
  {
   "cell_type": "code",
   "execution_count": 38,
   "id": "8db7e778-ea17-4834-9683-dbfabb34320e",
   "metadata": {},
   "outputs": [],
   "source": [
    "df1= df.drop(['Brand','Year','Model'], axis=1)"
   ]
  },
  {
   "cell_type": "code",
   "execution_count": 39,
   "id": "7de865d3-4c04-4ff1-a857-fd8e62441460",
   "metadata": {},
   "outputs": [],
   "source": [
    "df1= pd.get_dummies(df1)"
   ]
  },
  {
   "cell_type": "code",
   "execution_count": 40,
   "id": "8c7f94db-3f6e-40f5-99ab-f08c1831622d",
   "metadata": {},
   "outputs": [
    {
     "data": {
      "text/html": [
       "<div>\n",
       "<style scoped>\n",
       "    .dataframe tbody tr th:only-of-type {\n",
       "        vertical-align: middle;\n",
       "    }\n",
       "\n",
       "    .dataframe tbody tr th {\n",
       "        vertical-align: top;\n",
       "    }\n",
       "\n",
       "    .dataframe thead th {\n",
       "        text-align: right;\n",
       "    }\n",
       "</style>\n",
       "<table border=\"1\" class=\"dataframe\">\n",
       "  <thead>\n",
       "    <tr style=\"text-align: right;\">\n",
       "      <th></th>\n",
       "      <th>Displacement</th>\n",
       "      <th>FuelConsumption</th>\n",
       "      <th>Kilometres</th>\n",
       "      <th>Cylinders</th>\n",
       "      <th>Doors</th>\n",
       "      <th>Seats</th>\n",
       "      <th>Price</th>\n",
       "      <th>UsedOrNew_DEMO</th>\n",
       "      <th>UsedOrNew_NEW</th>\n",
       "      <th>UsedOrNew_USED</th>\n",
       "      <th>...</th>\n",
       "      <th>BodyType_Commercial</th>\n",
       "      <th>BodyType_Convertible</th>\n",
       "      <th>BodyType_Coupe</th>\n",
       "      <th>BodyType_Hatchback</th>\n",
       "      <th>BodyType_Other</th>\n",
       "      <th>BodyType_People Mover</th>\n",
       "      <th>BodyType_SUV</th>\n",
       "      <th>BodyType_Sedan</th>\n",
       "      <th>BodyType_Ute / Tray</th>\n",
       "      <th>BodyType_Wagon</th>\n",
       "    </tr>\n",
       "  </thead>\n",
       "  <tbody>\n",
       "    <tr>\n",
       "      <th>0</th>\n",
       "      <td>2.2</td>\n",
       "      <td>8.7</td>\n",
       "      <td>5595.0</td>\n",
       "      <td>4</td>\n",
       "      <td>4</td>\n",
       "      <td>7</td>\n",
       "      <td>51990.0</td>\n",
       "      <td>True</td>\n",
       "      <td>False</td>\n",
       "      <td>False</td>\n",
       "      <td>...</td>\n",
       "      <td>False</td>\n",
       "      <td>False</td>\n",
       "      <td>False</td>\n",
       "      <td>False</td>\n",
       "      <td>False</td>\n",
       "      <td>False</td>\n",
       "      <td>True</td>\n",
       "      <td>False</td>\n",
       "      <td>False</td>\n",
       "      <td>False</td>\n",
       "    </tr>\n",
       "    <tr>\n",
       "      <th>1</th>\n",
       "      <td>1.5</td>\n",
       "      <td>6.7</td>\n",
       "      <td>16.0</td>\n",
       "      <td>4</td>\n",
       "      <td>5</td>\n",
       "      <td>5</td>\n",
       "      <td>19990.0</td>\n",
       "      <td>False</td>\n",
       "      <td>False</td>\n",
       "      <td>True</td>\n",
       "      <td>...</td>\n",
       "      <td>False</td>\n",
       "      <td>False</td>\n",
       "      <td>False</td>\n",
       "      <td>True</td>\n",
       "      <td>False</td>\n",
       "      <td>False</td>\n",
       "      <td>False</td>\n",
       "      <td>False</td>\n",
       "      <td>False</td>\n",
       "      <td>False</td>\n",
       "    </tr>\n",
       "    <tr>\n",
       "      <th>2</th>\n",
       "      <td>5.5</td>\n",
       "      <td>11.0</td>\n",
       "      <td>136517.0</td>\n",
       "      <td>8</td>\n",
       "      <td>2</td>\n",
       "      <td>4</td>\n",
       "      <td>32990.0</td>\n",
       "      <td>False</td>\n",
       "      <td>False</td>\n",
       "      <td>True</td>\n",
       "      <td>...</td>\n",
       "      <td>False</td>\n",
       "      <td>False</td>\n",
       "      <td>True</td>\n",
       "      <td>False</td>\n",
       "      <td>False</td>\n",
       "      <td>False</td>\n",
       "      <td>False</td>\n",
       "      <td>False</td>\n",
       "      <td>False</td>\n",
       "      <td>False</td>\n",
       "    </tr>\n",
       "    <tr>\n",
       "      <th>3</th>\n",
       "      <td>1.3</td>\n",
       "      <td>6.0</td>\n",
       "      <td>1035.0</td>\n",
       "      <td>4</td>\n",
       "      <td>4</td>\n",
       "      <td>5</td>\n",
       "      <td>34990.0</td>\n",
       "      <td>False</td>\n",
       "      <td>False</td>\n",
       "      <td>True</td>\n",
       "      <td>...</td>\n",
       "      <td>False</td>\n",
       "      <td>False</td>\n",
       "      <td>False</td>\n",
       "      <td>False</td>\n",
       "      <td>False</td>\n",
       "      <td>False</td>\n",
       "      <td>True</td>\n",
       "      <td>False</td>\n",
       "      <td>False</td>\n",
       "      <td>False</td>\n",
       "    </tr>\n",
       "    <tr>\n",
       "      <th>4</th>\n",
       "      <td>2.0</td>\n",
       "      <td>5.1</td>\n",
       "      <td>67662.0</td>\n",
       "      <td>4</td>\n",
       "      <td>2</td>\n",
       "      <td>4</td>\n",
       "      <td>62280.0</td>\n",
       "      <td>False</td>\n",
       "      <td>False</td>\n",
       "      <td>True</td>\n",
       "      <td>...</td>\n",
       "      <td>False</td>\n",
       "      <td>False</td>\n",
       "      <td>False</td>\n",
       "      <td>False</td>\n",
       "      <td>False</td>\n",
       "      <td>False</td>\n",
       "      <td>True</td>\n",
       "      <td>False</td>\n",
       "      <td>False</td>\n",
       "      <td>False</td>\n",
       "    </tr>\n",
       "  </tbody>\n",
       "</table>\n",
       "<p>5 rows × 33 columns</p>\n",
       "</div>"
      ],
      "text/plain": [
       "   Displacement  FuelConsumption  Kilometres  Cylinders  Doors  Seats  \\\n",
       "0           2.2              8.7      5595.0          4      4      7   \n",
       "1           1.5              6.7        16.0          4      5      5   \n",
       "2           5.5             11.0    136517.0          8      2      4   \n",
       "3           1.3              6.0      1035.0          4      4      5   \n",
       "4           2.0              5.1     67662.0          4      2      4   \n",
       "\n",
       "     Price  UsedOrNew_DEMO  UsedOrNew_NEW  UsedOrNew_USED  ...  \\\n",
       "0  51990.0            True          False           False  ...   \n",
       "1  19990.0           False          False            True  ...   \n",
       "2  32990.0           False          False            True  ...   \n",
       "3  34990.0           False          False            True  ...   \n",
       "4  62280.0           False          False            True  ...   \n",
       "\n",
       "   BodyType_Commercial  BodyType_Convertible  BodyType_Coupe  \\\n",
       "0                False                 False           False   \n",
       "1                False                 False           False   \n",
       "2                False                 False            True   \n",
       "3                False                 False           False   \n",
       "4                False                 False           False   \n",
       "\n",
       "   BodyType_Hatchback  BodyType_Other  BodyType_People Mover  BodyType_SUV  \\\n",
       "0               False           False                  False          True   \n",
       "1                True           False                  False         False   \n",
       "2               False           False                  False         False   \n",
       "3               False           False                  False          True   \n",
       "4               False           False                  False          True   \n",
       "\n",
       "   BodyType_Sedan  BodyType_Ute / Tray  BodyType_Wagon  \n",
       "0           False                False           False  \n",
       "1           False                False           False  \n",
       "2           False                False           False  \n",
       "3           False                False           False  \n",
       "4           False                False           False  \n",
       "\n",
       "[5 rows x 33 columns]"
      ]
     },
     "execution_count": 40,
     "metadata": {},
     "output_type": "execute_result"
    }
   ],
   "source": [
    "df1.head()"
   ]
  },
  {
   "cell_type": "code",
   "execution_count": null,
   "id": "842050f2-b4f5-49a9-bada-678828c6e5d1",
   "metadata": {},
   "outputs": [],
   "source": []
  },
  {
   "cell_type": "code",
   "execution_count": 41,
   "id": "ced00e8c-472b-4573-bab5-cae12f637559",
   "metadata": {},
   "outputs": [],
   "source": [
    "y= df1['Price']\n",
    "x= df1.drop(['Price'], axis =1)"
   ]
  },
  {
   "cell_type": "code",
   "execution_count": 42,
   "id": "50e3d2ae-15ba-43b2-a172-ee3a122255d4",
   "metadata": {},
   "outputs": [],
   "source": [
    "from sklearn.model_selection import train_test_split"
   ]
  },
  {
   "cell_type": "code",
   "execution_count": 43,
   "id": "fc1c580a-654e-437a-ba34-e23b4ea72c4d",
   "metadata": {},
   "outputs": [],
   "source": [
    "x_train,x_test,y_train,y_test=train_test_split(x,y,test_size=0.2,random_state=101)"
   ]
  },
  {
   "cell_type": "code",
   "execution_count": 44,
   "id": "8b37c163-0dba-4edf-9001-cb8cadda5a1e",
   "metadata": {},
   "outputs": [
    {
     "data": {
      "text/html": [
       "<style>#sk-container-id-1 {color: black;background-color: white;}#sk-container-id-1 pre{padding: 0;}#sk-container-id-1 div.sk-toggleable {background-color: white;}#sk-container-id-1 label.sk-toggleable__label {cursor: pointer;display: block;width: 100%;margin-bottom: 0;padding: 0.3em;box-sizing: border-box;text-align: center;}#sk-container-id-1 label.sk-toggleable__label-arrow:before {content: \"▸\";float: left;margin-right: 0.25em;color: #696969;}#sk-container-id-1 label.sk-toggleable__label-arrow:hover:before {color: black;}#sk-container-id-1 div.sk-estimator:hover label.sk-toggleable__label-arrow:before {color: black;}#sk-container-id-1 div.sk-toggleable__content {max-height: 0;max-width: 0;overflow: hidden;text-align: left;background-color: #f0f8ff;}#sk-container-id-1 div.sk-toggleable__content pre {margin: 0.2em;color: black;border-radius: 0.25em;background-color: #f0f8ff;}#sk-container-id-1 input.sk-toggleable__control:checked~div.sk-toggleable__content {max-height: 200px;max-width: 100%;overflow: auto;}#sk-container-id-1 input.sk-toggleable__control:checked~label.sk-toggleable__label-arrow:before {content: \"▾\";}#sk-container-id-1 div.sk-estimator input.sk-toggleable__control:checked~label.sk-toggleable__label {background-color: #d4ebff;}#sk-container-id-1 div.sk-label input.sk-toggleable__control:checked~label.sk-toggleable__label {background-color: #d4ebff;}#sk-container-id-1 input.sk-hidden--visually {border: 0;clip: rect(1px 1px 1px 1px);clip: rect(1px, 1px, 1px, 1px);height: 1px;margin: -1px;overflow: hidden;padding: 0;position: absolute;width: 1px;}#sk-container-id-1 div.sk-estimator {font-family: monospace;background-color: #f0f8ff;border: 1px dotted black;border-radius: 0.25em;box-sizing: border-box;margin-bottom: 0.5em;}#sk-container-id-1 div.sk-estimator:hover {background-color: #d4ebff;}#sk-container-id-1 div.sk-parallel-item::after {content: \"\";width: 100%;border-bottom: 1px solid gray;flex-grow: 1;}#sk-container-id-1 div.sk-label:hover label.sk-toggleable__label {background-color: #d4ebff;}#sk-container-id-1 div.sk-serial::before {content: \"\";position: absolute;border-left: 1px solid gray;box-sizing: border-box;top: 0;bottom: 0;left: 50%;z-index: 0;}#sk-container-id-1 div.sk-serial {display: flex;flex-direction: column;align-items: center;background-color: white;padding-right: 0.2em;padding-left: 0.2em;position: relative;}#sk-container-id-1 div.sk-item {position: relative;z-index: 1;}#sk-container-id-1 div.sk-parallel {display: flex;align-items: stretch;justify-content: center;background-color: white;position: relative;}#sk-container-id-1 div.sk-item::before, #sk-container-id-1 div.sk-parallel-item::before {content: \"\";position: absolute;border-left: 1px solid gray;box-sizing: border-box;top: 0;bottom: 0;left: 50%;z-index: -1;}#sk-container-id-1 div.sk-parallel-item {display: flex;flex-direction: column;z-index: 1;position: relative;background-color: white;}#sk-container-id-1 div.sk-parallel-item:first-child::after {align-self: flex-end;width: 50%;}#sk-container-id-1 div.sk-parallel-item:last-child::after {align-self: flex-start;width: 50%;}#sk-container-id-1 div.sk-parallel-item:only-child::after {width: 0;}#sk-container-id-1 div.sk-dashed-wrapped {border: 1px dashed gray;margin: 0 0.4em 0.5em 0.4em;box-sizing: border-box;padding-bottom: 0.4em;background-color: white;}#sk-container-id-1 div.sk-label label {font-family: monospace;font-weight: bold;display: inline-block;line-height: 1.2em;}#sk-container-id-1 div.sk-label-container {text-align: center;}#sk-container-id-1 div.sk-container {/* jupyter's `normalize.less` sets `[hidden] { display: none; }` but bootstrap.min.css set `[hidden] { display: none !important; }` so we also need the `!important` here to be able to override the default hidden behavior on the sphinx rendered scikit-learn.org. See: https://github.com/scikit-learn/scikit-learn/issues/21755 */display: inline-block !important;position: relative;}#sk-container-id-1 div.sk-text-repr-fallback {display: none;}</style><div id=\"sk-container-id-1\" class=\"sk-top-container\"><div class=\"sk-text-repr-fallback\"><pre>LinearRegression()</pre><b>In a Jupyter environment, please rerun this cell to show the HTML representation or trust the notebook. <br />On GitHub, the HTML representation is unable to render, please try loading this page with nbviewer.org.</b></div><div class=\"sk-container\" hidden><div class=\"sk-item\"><div class=\"sk-estimator sk-toggleable\"><input class=\"sk-toggleable__control sk-hidden--visually\" id=\"sk-estimator-id-1\" type=\"checkbox\" checked><label for=\"sk-estimator-id-1\" class=\"sk-toggleable__label sk-toggleable__label-arrow\">LinearRegression</label><div class=\"sk-toggleable__content\"><pre>LinearRegression()</pre></div></div></div></div></div>"
      ],
      "text/plain": [
       "LinearRegression()"
      ]
     },
     "execution_count": 44,
     "metadata": {},
     "output_type": "execute_result"
    }
   ],
   "source": [
    "from sklearn.linear_model import LinearRegression\n",
    "lr = LinearRegression()\n",
    "lr.fit(x_train,y_train)"
   ]
  },
  {
   "cell_type": "code",
   "execution_count": 45,
   "id": "98be1887-c5f4-47ff-9fd5-840649ecc552",
   "metadata": {},
   "outputs": [],
   "source": [
    "y_pred=lr.predict(x_test)"
   ]
  },
  {
   "cell_type": "code",
   "execution_count": 46,
   "id": "17b0e21b-028e-4b0f-9d4e-95aed940840d",
   "metadata": {},
   "outputs": [
    {
     "data": {
      "text/plain": [
       "0.648745612751902"
      ]
     },
     "execution_count": 46,
     "metadata": {},
     "output_type": "execute_result"
    }
   ],
   "source": [
    "from sklearn.metrics import r2_score\n",
    "r2_score(y_test,y_pred)"
   ]
  },
  {
   "cell_type": "code",
   "execution_count": 47,
   "id": "23a1d57b-9788-419b-bbfc-0756ae659735",
   "metadata": {},
   "outputs": [
    {
     "data": {
      "text/plain": [
       "0.6517845604662945"
      ]
     },
     "execution_count": 47,
     "metadata": {},
     "output_type": "execute_result"
    }
   ],
   "source": [
    "r2_score(y_train,lr.predict(x_train))"
   ]
  },
  {
   "cell_type": "code",
   "execution_count": 48,
   "id": "642b2ad8-3b41-4340-8838-48cb8d6e3438",
   "metadata": {},
   "outputs": [
    {
     "data": {
      "text/html": [
       "<style>#sk-container-id-2 {color: black;background-color: white;}#sk-container-id-2 pre{padding: 0;}#sk-container-id-2 div.sk-toggleable {background-color: white;}#sk-container-id-2 label.sk-toggleable__label {cursor: pointer;display: block;width: 100%;margin-bottom: 0;padding: 0.3em;box-sizing: border-box;text-align: center;}#sk-container-id-2 label.sk-toggleable__label-arrow:before {content: \"▸\";float: left;margin-right: 0.25em;color: #696969;}#sk-container-id-2 label.sk-toggleable__label-arrow:hover:before {color: black;}#sk-container-id-2 div.sk-estimator:hover label.sk-toggleable__label-arrow:before {color: black;}#sk-container-id-2 div.sk-toggleable__content {max-height: 0;max-width: 0;overflow: hidden;text-align: left;background-color: #f0f8ff;}#sk-container-id-2 div.sk-toggleable__content pre {margin: 0.2em;color: black;border-radius: 0.25em;background-color: #f0f8ff;}#sk-container-id-2 input.sk-toggleable__control:checked~div.sk-toggleable__content {max-height: 200px;max-width: 100%;overflow: auto;}#sk-container-id-2 input.sk-toggleable__control:checked~label.sk-toggleable__label-arrow:before {content: \"▾\";}#sk-container-id-2 div.sk-estimator input.sk-toggleable__control:checked~label.sk-toggleable__label {background-color: #d4ebff;}#sk-container-id-2 div.sk-label input.sk-toggleable__control:checked~label.sk-toggleable__label {background-color: #d4ebff;}#sk-container-id-2 input.sk-hidden--visually {border: 0;clip: rect(1px 1px 1px 1px);clip: rect(1px, 1px, 1px, 1px);height: 1px;margin: -1px;overflow: hidden;padding: 0;position: absolute;width: 1px;}#sk-container-id-2 div.sk-estimator {font-family: monospace;background-color: #f0f8ff;border: 1px dotted black;border-radius: 0.25em;box-sizing: border-box;margin-bottom: 0.5em;}#sk-container-id-2 div.sk-estimator:hover {background-color: #d4ebff;}#sk-container-id-2 div.sk-parallel-item::after {content: \"\";width: 100%;border-bottom: 1px solid gray;flex-grow: 1;}#sk-container-id-2 div.sk-label:hover label.sk-toggleable__label {background-color: #d4ebff;}#sk-container-id-2 div.sk-serial::before {content: \"\";position: absolute;border-left: 1px solid gray;box-sizing: border-box;top: 0;bottom: 0;left: 50%;z-index: 0;}#sk-container-id-2 div.sk-serial {display: flex;flex-direction: column;align-items: center;background-color: white;padding-right: 0.2em;padding-left: 0.2em;position: relative;}#sk-container-id-2 div.sk-item {position: relative;z-index: 1;}#sk-container-id-2 div.sk-parallel {display: flex;align-items: stretch;justify-content: center;background-color: white;position: relative;}#sk-container-id-2 div.sk-item::before, #sk-container-id-2 div.sk-parallel-item::before {content: \"\";position: absolute;border-left: 1px solid gray;box-sizing: border-box;top: 0;bottom: 0;left: 50%;z-index: -1;}#sk-container-id-2 div.sk-parallel-item {display: flex;flex-direction: column;z-index: 1;position: relative;background-color: white;}#sk-container-id-2 div.sk-parallel-item:first-child::after {align-self: flex-end;width: 50%;}#sk-container-id-2 div.sk-parallel-item:last-child::after {align-self: flex-start;width: 50%;}#sk-container-id-2 div.sk-parallel-item:only-child::after {width: 0;}#sk-container-id-2 div.sk-dashed-wrapped {border: 1px dashed gray;margin: 0 0.4em 0.5em 0.4em;box-sizing: border-box;padding-bottom: 0.4em;background-color: white;}#sk-container-id-2 div.sk-label label {font-family: monospace;font-weight: bold;display: inline-block;line-height: 1.2em;}#sk-container-id-2 div.sk-label-container {text-align: center;}#sk-container-id-2 div.sk-container {/* jupyter's `normalize.less` sets `[hidden] { display: none; }` but bootstrap.min.css set `[hidden] { display: none !important; }` so we also need the `!important` here to be able to override the default hidden behavior on the sphinx rendered scikit-learn.org. See: https://github.com/scikit-learn/scikit-learn/issues/21755 */display: inline-block !important;position: relative;}#sk-container-id-2 div.sk-text-repr-fallback {display: none;}</style><div id=\"sk-container-id-2\" class=\"sk-top-container\"><div class=\"sk-text-repr-fallback\"><pre>DecisionTreeRegressor()</pre><b>In a Jupyter environment, please rerun this cell to show the HTML representation or trust the notebook. <br />On GitHub, the HTML representation is unable to render, please try loading this page with nbviewer.org.</b></div><div class=\"sk-container\" hidden><div class=\"sk-item\"><div class=\"sk-estimator sk-toggleable\"><input class=\"sk-toggleable__control sk-hidden--visually\" id=\"sk-estimator-id-2\" type=\"checkbox\" checked><label for=\"sk-estimator-id-2\" class=\"sk-toggleable__label sk-toggleable__label-arrow\">DecisionTreeRegressor</label><div class=\"sk-toggleable__content\"><pre>DecisionTreeRegressor()</pre></div></div></div></div></div>"
      ],
      "text/plain": [
       "DecisionTreeRegressor()"
      ]
     },
     "execution_count": 48,
     "metadata": {},
     "output_type": "execute_result"
    }
   ],
   "source": [
    "from sklearn.tree import DecisionTreeRegressor\n",
    "Dtree=DecisionTreeRegressor()\n",
    "Dtree.fit(x_train,y_train)"
   ]
  },
  {
   "cell_type": "code",
   "execution_count": 49,
   "id": "32ef765d-d2a8-4e48-a523-e0acb993bde9",
   "metadata": {},
   "outputs": [],
   "source": [
    "y_pred_dtree=Dtree.predict(x_test)\n"
   ]
  },
  {
   "cell_type": "code",
   "execution_count": 50,
   "id": "2d07611d-43d9-4fef-801f-330649263188",
   "metadata": {},
   "outputs": [
    {
     "data": {
      "text/plain": [
       "0.9995485736965375"
      ]
     },
     "execution_count": 50,
     "metadata": {},
     "output_type": "execute_result"
    }
   ],
   "source": [
    "y_pred_train_dtree=Dtree.predict(x_train)\n",
    "r2_score(y_train,y_pred_train_dtree)"
   ]
  },
  {
   "cell_type": "code",
   "execution_count": 51,
   "id": "40f8bcba-27c1-421d-a99d-2a2d9c985dbf",
   "metadata": {},
   "outputs": [
    {
     "data": {
      "text/plain": [
       "0.6954588476797953"
      ]
     },
     "execution_count": 51,
     "metadata": {},
     "output_type": "execute_result"
    }
   ],
   "source": [
    "y_pred_test_dtree=Dtree.predict(x_test)\n",
    "r2_score(y_test,y_pred_test_dtree)"
   ]
  },
  {
   "cell_type": "code",
   "execution_count": 52,
   "id": "87f6248c-2ecb-40ce-bf3b-e27b7cc58228",
   "metadata": {},
   "outputs": [
    {
     "data": {
      "text/html": [
       "<style>#sk-container-id-3 {color: black;background-color: white;}#sk-container-id-3 pre{padding: 0;}#sk-container-id-3 div.sk-toggleable {background-color: white;}#sk-container-id-3 label.sk-toggleable__label {cursor: pointer;display: block;width: 100%;margin-bottom: 0;padding: 0.3em;box-sizing: border-box;text-align: center;}#sk-container-id-3 label.sk-toggleable__label-arrow:before {content: \"▸\";float: left;margin-right: 0.25em;color: #696969;}#sk-container-id-3 label.sk-toggleable__label-arrow:hover:before {color: black;}#sk-container-id-3 div.sk-estimator:hover label.sk-toggleable__label-arrow:before {color: black;}#sk-container-id-3 div.sk-toggleable__content {max-height: 0;max-width: 0;overflow: hidden;text-align: left;background-color: #f0f8ff;}#sk-container-id-3 div.sk-toggleable__content pre {margin: 0.2em;color: black;border-radius: 0.25em;background-color: #f0f8ff;}#sk-container-id-3 input.sk-toggleable__control:checked~div.sk-toggleable__content {max-height: 200px;max-width: 100%;overflow: auto;}#sk-container-id-3 input.sk-toggleable__control:checked~label.sk-toggleable__label-arrow:before {content: \"▾\";}#sk-container-id-3 div.sk-estimator input.sk-toggleable__control:checked~label.sk-toggleable__label {background-color: #d4ebff;}#sk-container-id-3 div.sk-label input.sk-toggleable__control:checked~label.sk-toggleable__label {background-color: #d4ebff;}#sk-container-id-3 input.sk-hidden--visually {border: 0;clip: rect(1px 1px 1px 1px);clip: rect(1px, 1px, 1px, 1px);height: 1px;margin: -1px;overflow: hidden;padding: 0;position: absolute;width: 1px;}#sk-container-id-3 div.sk-estimator {font-family: monospace;background-color: #f0f8ff;border: 1px dotted black;border-radius: 0.25em;box-sizing: border-box;margin-bottom: 0.5em;}#sk-container-id-3 div.sk-estimator:hover {background-color: #d4ebff;}#sk-container-id-3 div.sk-parallel-item::after {content: \"\";width: 100%;border-bottom: 1px solid gray;flex-grow: 1;}#sk-container-id-3 div.sk-label:hover label.sk-toggleable__label {background-color: #d4ebff;}#sk-container-id-3 div.sk-serial::before {content: \"\";position: absolute;border-left: 1px solid gray;box-sizing: border-box;top: 0;bottom: 0;left: 50%;z-index: 0;}#sk-container-id-3 div.sk-serial {display: flex;flex-direction: column;align-items: center;background-color: white;padding-right: 0.2em;padding-left: 0.2em;position: relative;}#sk-container-id-3 div.sk-item {position: relative;z-index: 1;}#sk-container-id-3 div.sk-parallel {display: flex;align-items: stretch;justify-content: center;background-color: white;position: relative;}#sk-container-id-3 div.sk-item::before, #sk-container-id-3 div.sk-parallel-item::before {content: \"\";position: absolute;border-left: 1px solid gray;box-sizing: border-box;top: 0;bottom: 0;left: 50%;z-index: -1;}#sk-container-id-3 div.sk-parallel-item {display: flex;flex-direction: column;z-index: 1;position: relative;background-color: white;}#sk-container-id-3 div.sk-parallel-item:first-child::after {align-self: flex-end;width: 50%;}#sk-container-id-3 div.sk-parallel-item:last-child::after {align-self: flex-start;width: 50%;}#sk-container-id-3 div.sk-parallel-item:only-child::after {width: 0;}#sk-container-id-3 div.sk-dashed-wrapped {border: 1px dashed gray;margin: 0 0.4em 0.5em 0.4em;box-sizing: border-box;padding-bottom: 0.4em;background-color: white;}#sk-container-id-3 div.sk-label label {font-family: monospace;font-weight: bold;display: inline-block;line-height: 1.2em;}#sk-container-id-3 div.sk-label-container {text-align: center;}#sk-container-id-3 div.sk-container {/* jupyter's `normalize.less` sets `[hidden] { display: none; }` but bootstrap.min.css set `[hidden] { display: none !important; }` so we also need the `!important` here to be able to override the default hidden behavior on the sphinx rendered scikit-learn.org. See: https://github.com/scikit-learn/scikit-learn/issues/21755 */display: inline-block !important;position: relative;}#sk-container-id-3 div.sk-text-repr-fallback {display: none;}</style><div id=\"sk-container-id-3\" class=\"sk-top-container\"><div class=\"sk-text-repr-fallback\"><pre>RandomForestRegressor()</pre><b>In a Jupyter environment, please rerun this cell to show the HTML representation or trust the notebook. <br />On GitHub, the HTML representation is unable to render, please try loading this page with nbviewer.org.</b></div><div class=\"sk-container\" hidden><div class=\"sk-item\"><div class=\"sk-estimator sk-toggleable\"><input class=\"sk-toggleable__control sk-hidden--visually\" id=\"sk-estimator-id-3\" type=\"checkbox\" checked><label for=\"sk-estimator-id-3\" class=\"sk-toggleable__label sk-toggleable__label-arrow\">RandomForestRegressor</label><div class=\"sk-toggleable__content\"><pre>RandomForestRegressor()</pre></div></div></div></div></div>"
      ],
      "text/plain": [
       "RandomForestRegressor()"
      ]
     },
     "execution_count": 52,
     "metadata": {},
     "output_type": "execute_result"
    }
   ],
   "source": [
    "## Random forest\n",
    "from sklearn.ensemble import RandomForestRegressor\n",
    "Rforest=RandomForestRegressor()\n",
    "Rforest.fit(x_train,y_train)"
   ]
  },
  {
   "cell_type": "code",
   "execution_count": 53,
   "id": "38ca6c7b-47ea-4b60-807b-e148951ceb40",
   "metadata": {},
   "outputs": [
    {
     "data": {
      "text/plain": [
       "0.9995485736965375"
      ]
     },
     "execution_count": 53,
     "metadata": {},
     "output_type": "execute_result"
    }
   ],
   "source": [
    "y_pred_dtree=Rforest.predict(x_test)\n",
    "y_pred_train_Rforest=Rforest.predict(x_train)\n",
    "r2_score(y_train,y_pred_train_dtree)"
   ]
  },
  {
   "cell_type": "code",
   "execution_count": 54,
   "id": "9a3030a5-c6bc-4ab9-b6ad-9d0614b54a67",
   "metadata": {},
   "outputs": [],
   "source": [
    "y_pred_test_Rforest=Rforest.predict(x_test)"
   ]
  },
  {
   "cell_type": "code",
   "execution_count": 55,
   "id": "95c7f8d6-5c77-49c1-9a52-9ca1ae0b5de3",
   "metadata": {},
   "outputs": [
    {
     "data": {
      "text/plain": [
       "0.6954588476797953"
      ]
     },
     "execution_count": 55,
     "metadata": {},
     "output_type": "execute_result"
    }
   ],
   "source": [
    "r2_score(y_test,y_pred_test_dtree)"
   ]
  },
  {
   "cell_type": "code",
   "execution_count": 56,
   "id": "436808fc-bc63-483e-91c7-cbfb8c8ab7ea",
   "metadata": {},
   "outputs": [],
   "source": [
    "## bagging classifier and random forest\n",
    "from sklearn.ensemble import BaggingRegressor"
   ]
  },
  {
   "cell_type": "code",
   "execution_count": 57,
   "id": "b931d236-88c1-410b-9f42-b2e5a39e8a51",
   "metadata": {},
   "outputs": [],
   "source": [
    "bag=BaggingRegressor()\n",
    "bag.fit(x_train,y_train)\n",
    "y_pred=bag.predict(x_test)"
   ]
  },
  {
   "cell_type": "code",
   "execution_count": 58,
   "id": "454423f5-90ca-4ef3-b676-98263be67102",
   "metadata": {},
   "outputs": [
    {
     "data": {
      "text/plain": [
       "0.9658295020311785"
      ]
     },
     "execution_count": 58,
     "metadata": {},
     "output_type": "execute_result"
    }
   ],
   "source": [
    "r2_score(y_train,bag.predict(x_train))"
   ]
  },
  {
   "cell_type": "code",
   "execution_count": 59,
   "id": "873c9e93-905a-40db-bdd7-4d41def9baaa",
   "metadata": {},
   "outputs": [
    {
     "data": {
      "text/plain": [
       "0.8073659806018725"
      ]
     },
     "execution_count": 59,
     "metadata": {},
     "output_type": "execute_result"
    }
   ],
   "source": [
    "r2_score(y_test,y_pred)"
   ]
  },
  {
   "cell_type": "code",
   "execution_count": 60,
   "id": "c3cfa299-4f75-46e8-bde0-7094a5cbd192",
   "metadata": {},
   "outputs": [],
   "source": [
    "from sklearn.linear_model import Ridge,Lasso,ElasticNet"
   ]
  },
  {
   "cell_type": "code",
   "execution_count": 61,
   "id": "8fe7dd28-1592-4219-a5b7-489719bcb89f",
   "metadata": {},
   "outputs": [
    {
     "data": {
      "text/html": [
       "<style>#sk-container-id-4 {color: black;background-color: white;}#sk-container-id-4 pre{padding: 0;}#sk-container-id-4 div.sk-toggleable {background-color: white;}#sk-container-id-4 label.sk-toggleable__label {cursor: pointer;display: block;width: 100%;margin-bottom: 0;padding: 0.3em;box-sizing: border-box;text-align: center;}#sk-container-id-4 label.sk-toggleable__label-arrow:before {content: \"▸\";float: left;margin-right: 0.25em;color: #696969;}#sk-container-id-4 label.sk-toggleable__label-arrow:hover:before {color: black;}#sk-container-id-4 div.sk-estimator:hover label.sk-toggleable__label-arrow:before {color: black;}#sk-container-id-4 div.sk-toggleable__content {max-height: 0;max-width: 0;overflow: hidden;text-align: left;background-color: #f0f8ff;}#sk-container-id-4 div.sk-toggleable__content pre {margin: 0.2em;color: black;border-radius: 0.25em;background-color: #f0f8ff;}#sk-container-id-4 input.sk-toggleable__control:checked~div.sk-toggleable__content {max-height: 200px;max-width: 100%;overflow: auto;}#sk-container-id-4 input.sk-toggleable__control:checked~label.sk-toggleable__label-arrow:before {content: \"▾\";}#sk-container-id-4 div.sk-estimator input.sk-toggleable__control:checked~label.sk-toggleable__label {background-color: #d4ebff;}#sk-container-id-4 div.sk-label input.sk-toggleable__control:checked~label.sk-toggleable__label {background-color: #d4ebff;}#sk-container-id-4 input.sk-hidden--visually {border: 0;clip: rect(1px 1px 1px 1px);clip: rect(1px, 1px, 1px, 1px);height: 1px;margin: -1px;overflow: hidden;padding: 0;position: absolute;width: 1px;}#sk-container-id-4 div.sk-estimator {font-family: monospace;background-color: #f0f8ff;border: 1px dotted black;border-radius: 0.25em;box-sizing: border-box;margin-bottom: 0.5em;}#sk-container-id-4 div.sk-estimator:hover {background-color: #d4ebff;}#sk-container-id-4 div.sk-parallel-item::after {content: \"\";width: 100%;border-bottom: 1px solid gray;flex-grow: 1;}#sk-container-id-4 div.sk-label:hover label.sk-toggleable__label {background-color: #d4ebff;}#sk-container-id-4 div.sk-serial::before {content: \"\";position: absolute;border-left: 1px solid gray;box-sizing: border-box;top: 0;bottom: 0;left: 50%;z-index: 0;}#sk-container-id-4 div.sk-serial {display: flex;flex-direction: column;align-items: center;background-color: white;padding-right: 0.2em;padding-left: 0.2em;position: relative;}#sk-container-id-4 div.sk-item {position: relative;z-index: 1;}#sk-container-id-4 div.sk-parallel {display: flex;align-items: stretch;justify-content: center;background-color: white;position: relative;}#sk-container-id-4 div.sk-item::before, #sk-container-id-4 div.sk-parallel-item::before {content: \"\";position: absolute;border-left: 1px solid gray;box-sizing: border-box;top: 0;bottom: 0;left: 50%;z-index: -1;}#sk-container-id-4 div.sk-parallel-item {display: flex;flex-direction: column;z-index: 1;position: relative;background-color: white;}#sk-container-id-4 div.sk-parallel-item:first-child::after {align-self: flex-end;width: 50%;}#sk-container-id-4 div.sk-parallel-item:last-child::after {align-self: flex-start;width: 50%;}#sk-container-id-4 div.sk-parallel-item:only-child::after {width: 0;}#sk-container-id-4 div.sk-dashed-wrapped {border: 1px dashed gray;margin: 0 0.4em 0.5em 0.4em;box-sizing: border-box;padding-bottom: 0.4em;background-color: white;}#sk-container-id-4 div.sk-label label {font-family: monospace;font-weight: bold;display: inline-block;line-height: 1.2em;}#sk-container-id-4 div.sk-label-container {text-align: center;}#sk-container-id-4 div.sk-container {/* jupyter's `normalize.less` sets `[hidden] { display: none; }` but bootstrap.min.css set `[hidden] { display: none !important; }` so we also need the `!important` here to be able to override the default hidden behavior on the sphinx rendered scikit-learn.org. See: https://github.com/scikit-learn/scikit-learn/issues/21755 */display: inline-block !important;position: relative;}#sk-container-id-4 div.sk-text-repr-fallback {display: none;}</style><div id=\"sk-container-id-4\" class=\"sk-top-container\"><div class=\"sk-text-repr-fallback\"><pre>Ridge(alpha=0.1)</pre><b>In a Jupyter environment, please rerun this cell to show the HTML representation or trust the notebook. <br />On GitHub, the HTML representation is unable to render, please try loading this page with nbviewer.org.</b></div><div class=\"sk-container\" hidden><div class=\"sk-item\"><div class=\"sk-estimator sk-toggleable\"><input class=\"sk-toggleable__control sk-hidden--visually\" id=\"sk-estimator-id-4\" type=\"checkbox\" checked><label for=\"sk-estimator-id-4\" class=\"sk-toggleable__label sk-toggleable__label-arrow\">Ridge</label><div class=\"sk-toggleable__content\"><pre>Ridge(alpha=0.1)</pre></div></div></div></div></div>"
      ],
      "text/plain": [
       "Ridge(alpha=0.1)"
      ]
     },
     "execution_count": 61,
     "metadata": {},
     "output_type": "execute_result"
    }
   ],
   "source": [
    "ri=Ridge(alpha=0.1)\n",
    "ri.fit(x_train,y_train)"
   ]
  },
  {
   "cell_type": "code",
   "execution_count": 62,
   "id": "bbdaae0d-8096-4117-9c62-4d8402dd0e96",
   "metadata": {},
   "outputs": [],
   "source": [
    "y_pred_ri=ri.predict(x_test)"
   ]
  },
  {
   "cell_type": "code",
   "execution_count": 63,
   "id": "fdafc837-b8f1-4ece-ab6e-bd1615cd94ec",
   "metadata": {},
   "outputs": [
    {
     "data": {
      "text/plain": [
       "0.6487524905704114"
      ]
     },
     "execution_count": 63,
     "metadata": {},
     "output_type": "execute_result"
    }
   ],
   "source": [
    "r2_score(y_test,y_pred_ri)\n"
   ]
  },
  {
   "cell_type": "code",
   "execution_count": 64,
   "id": "9375a5f8-45b2-4fca-9a62-70c325e07834",
   "metadata": {},
   "outputs": [
    {
     "data": {
      "text/plain": [
       "0.651783345366823"
      ]
     },
     "execution_count": 64,
     "metadata": {},
     "output_type": "execute_result"
    }
   ],
   "source": [
    "r2_score(y_train,ri.predict(x_train))"
   ]
  },
  {
   "cell_type": "code",
   "execution_count": 65,
   "id": "72c21ab2-04ca-4096-8364-3c22bcbb0aae",
   "metadata": {},
   "outputs": [
    {
     "data": {
      "text/html": [
       "<style>#sk-container-id-5 {color: black;background-color: white;}#sk-container-id-5 pre{padding: 0;}#sk-container-id-5 div.sk-toggleable {background-color: white;}#sk-container-id-5 label.sk-toggleable__label {cursor: pointer;display: block;width: 100%;margin-bottom: 0;padding: 0.3em;box-sizing: border-box;text-align: center;}#sk-container-id-5 label.sk-toggleable__label-arrow:before {content: \"▸\";float: left;margin-right: 0.25em;color: #696969;}#sk-container-id-5 label.sk-toggleable__label-arrow:hover:before {color: black;}#sk-container-id-5 div.sk-estimator:hover label.sk-toggleable__label-arrow:before {color: black;}#sk-container-id-5 div.sk-toggleable__content {max-height: 0;max-width: 0;overflow: hidden;text-align: left;background-color: #f0f8ff;}#sk-container-id-5 div.sk-toggleable__content pre {margin: 0.2em;color: black;border-radius: 0.25em;background-color: #f0f8ff;}#sk-container-id-5 input.sk-toggleable__control:checked~div.sk-toggleable__content {max-height: 200px;max-width: 100%;overflow: auto;}#sk-container-id-5 input.sk-toggleable__control:checked~label.sk-toggleable__label-arrow:before {content: \"▾\";}#sk-container-id-5 div.sk-estimator input.sk-toggleable__control:checked~label.sk-toggleable__label {background-color: #d4ebff;}#sk-container-id-5 div.sk-label input.sk-toggleable__control:checked~label.sk-toggleable__label {background-color: #d4ebff;}#sk-container-id-5 input.sk-hidden--visually {border: 0;clip: rect(1px 1px 1px 1px);clip: rect(1px, 1px, 1px, 1px);height: 1px;margin: -1px;overflow: hidden;padding: 0;position: absolute;width: 1px;}#sk-container-id-5 div.sk-estimator {font-family: monospace;background-color: #f0f8ff;border: 1px dotted black;border-radius: 0.25em;box-sizing: border-box;margin-bottom: 0.5em;}#sk-container-id-5 div.sk-estimator:hover {background-color: #d4ebff;}#sk-container-id-5 div.sk-parallel-item::after {content: \"\";width: 100%;border-bottom: 1px solid gray;flex-grow: 1;}#sk-container-id-5 div.sk-label:hover label.sk-toggleable__label {background-color: #d4ebff;}#sk-container-id-5 div.sk-serial::before {content: \"\";position: absolute;border-left: 1px solid gray;box-sizing: border-box;top: 0;bottom: 0;left: 50%;z-index: 0;}#sk-container-id-5 div.sk-serial {display: flex;flex-direction: column;align-items: center;background-color: white;padding-right: 0.2em;padding-left: 0.2em;position: relative;}#sk-container-id-5 div.sk-item {position: relative;z-index: 1;}#sk-container-id-5 div.sk-parallel {display: flex;align-items: stretch;justify-content: center;background-color: white;position: relative;}#sk-container-id-5 div.sk-item::before, #sk-container-id-5 div.sk-parallel-item::before {content: \"\";position: absolute;border-left: 1px solid gray;box-sizing: border-box;top: 0;bottom: 0;left: 50%;z-index: -1;}#sk-container-id-5 div.sk-parallel-item {display: flex;flex-direction: column;z-index: 1;position: relative;background-color: white;}#sk-container-id-5 div.sk-parallel-item:first-child::after {align-self: flex-end;width: 50%;}#sk-container-id-5 div.sk-parallel-item:last-child::after {align-self: flex-start;width: 50%;}#sk-container-id-5 div.sk-parallel-item:only-child::after {width: 0;}#sk-container-id-5 div.sk-dashed-wrapped {border: 1px dashed gray;margin: 0 0.4em 0.5em 0.4em;box-sizing: border-box;padding-bottom: 0.4em;background-color: white;}#sk-container-id-5 div.sk-label label {font-family: monospace;font-weight: bold;display: inline-block;line-height: 1.2em;}#sk-container-id-5 div.sk-label-container {text-align: center;}#sk-container-id-5 div.sk-container {/* jupyter's `normalize.less` sets `[hidden] { display: none; }` but bootstrap.min.css set `[hidden] { display: none !important; }` so we also need the `!important` here to be able to override the default hidden behavior on the sphinx rendered scikit-learn.org. See: https://github.com/scikit-learn/scikit-learn/issues/21755 */display: inline-block !important;position: relative;}#sk-container-id-5 div.sk-text-repr-fallback {display: none;}</style><div id=\"sk-container-id-5\" class=\"sk-top-container\"><div class=\"sk-text-repr-fallback\"><pre>Lasso(alpha=0.1)</pre><b>In a Jupyter environment, please rerun this cell to show the HTML representation or trust the notebook. <br />On GitHub, the HTML representation is unable to render, please try loading this page with nbviewer.org.</b></div><div class=\"sk-container\" hidden><div class=\"sk-item\"><div class=\"sk-estimator sk-toggleable\"><input class=\"sk-toggleable__control sk-hidden--visually\" id=\"sk-estimator-id-5\" type=\"checkbox\" checked><label for=\"sk-estimator-id-5\" class=\"sk-toggleable__label sk-toggleable__label-arrow\">Lasso</label><div class=\"sk-toggleable__content\"><pre>Lasso(alpha=0.1)</pre></div></div></div></div></div>"
      ],
      "text/plain": [
       "Lasso(alpha=0.1)"
      ]
     },
     "execution_count": 65,
     "metadata": {},
     "output_type": "execute_result"
    }
   ],
   "source": [
    "la=Lasso(alpha=0.1)\n",
    "la.fit(x_train,y_train)"
   ]
  },
  {
   "cell_type": "code",
   "execution_count": 66,
   "id": "640a42f4-5b81-42fd-826b-bdc84b13e026",
   "metadata": {},
   "outputs": [],
   "source": [
    "y_pred_la=la.predict(x_test)"
   ]
  },
  {
   "cell_type": "code",
   "execution_count": 67,
   "id": "f1f4bbca-a9a5-4695-b4b9-d628f499cdb3",
   "metadata": {},
   "outputs": [
    {
     "data": {
      "text/plain": [
       "0.6487524905704114"
      ]
     },
     "execution_count": 67,
     "metadata": {},
     "output_type": "execute_result"
    }
   ],
   "source": [
    "r2_score(y_test,y_pred_ri)"
   ]
  },
  {
   "cell_type": "code",
   "execution_count": 68,
   "id": "d6ff0877-75d0-45ae-a922-8170d267fe09",
   "metadata": {},
   "outputs": [
    {
     "data": {
      "text/plain": [
       "0.6517841484353941"
      ]
     },
     "execution_count": 68,
     "metadata": {},
     "output_type": "execute_result"
    }
   ],
   "source": [
    "r2_score(y_train,la.predict(x_train))"
   ]
  },
  {
   "cell_type": "code",
   "execution_count": 69,
   "id": "5e408282-0ac7-4e62-a510-6a5bf2285d71",
   "metadata": {},
   "outputs": [
    {
     "data": {
      "text/html": [
       "<div>\n",
       "<style scoped>\n",
       "    .dataframe tbody tr th:only-of-type {\n",
       "        vertical-align: middle;\n",
       "    }\n",
       "\n",
       "    .dataframe tbody tr th {\n",
       "        vertical-align: top;\n",
       "    }\n",
       "\n",
       "    .dataframe thead th {\n",
       "        text-align: right;\n",
       "    }\n",
       "</style>\n",
       "<table border=\"1\" class=\"dataframe\">\n",
       "  <thead>\n",
       "    <tr style=\"text-align: right;\">\n",
       "      <th></th>\n",
       "      <th>Algorithm</th>\n",
       "      <th>Training_accuracy</th>\n",
       "      <th>Testing_accuracy</th>\n",
       "    </tr>\n",
       "  </thead>\n",
       "  <tbody>\n",
       "    <tr>\n",
       "      <th>0</th>\n",
       "      <td>linear Regression</td>\n",
       "      <td>65</td>\n",
       "      <td>64</td>\n",
       "    </tr>\n",
       "    <tr>\n",
       "      <th>1</th>\n",
       "      <td>Decision Tree</td>\n",
       "      <td>99</td>\n",
       "      <td>69</td>\n",
       "    </tr>\n",
       "    <tr>\n",
       "      <th>2</th>\n",
       "      <td>Random Forest</td>\n",
       "      <td>99</td>\n",
       "      <td>69</td>\n",
       "    </tr>\n",
       "    <tr>\n",
       "      <th>3</th>\n",
       "      <td>Bagging</td>\n",
       "      <td>96</td>\n",
       "      <td>80</td>\n",
       "    </tr>\n",
       "    <tr>\n",
       "      <th>4</th>\n",
       "      <td>Ridge</td>\n",
       "      <td>65</td>\n",
       "      <td>64</td>\n",
       "    </tr>\n",
       "    <tr>\n",
       "      <th>5</th>\n",
       "      <td>Lasso</td>\n",
       "      <td>64</td>\n",
       "      <td>64</td>\n",
       "    </tr>\n",
       "  </tbody>\n",
       "</table>\n",
       "</div>"
      ],
      "text/plain": [
       "           Algorithm  Training_accuracy  Testing_accuracy\n",
       "0  linear Regression                 65                64\n",
       "1      Decision Tree                 99                69\n",
       "2      Random Forest                 99                69\n",
       "3            Bagging                 96                80\n",
       "4              Ridge                 65                64\n",
       "5              Lasso                 64                64"
      ]
     },
     "metadata": {},
     "output_type": "display_data"
    }
   ],
   "source": [
    "data = {\n",
    "    'Algorithm': ['linear Regression', 'Decision Tree','Random Forest','Bagging','Ridge','Lasso'],\n",
    "    'Training_accuracy': [65,99,99,96,65,64],\n",
    "    'Testing_accuracy': [64,69,69,80,64,64]\n",
    "}\n",
    "\n",
    "# Create DataFrame\n",
    "df1 = pd.DataFrame(data)\n",
    "\n",
    "# Display the DataFrame\n",
    "display(df1)"
   ]
  },
  {
   "cell_type": "code",
   "execution_count": 70,
   "id": "6ae0ffbb-df7b-400a-b693-ad04eed158fb",
   "metadata": {},
   "outputs": [
    {
     "data": {
      "image/png": "[encoded data removed]",
      "text/plain": [
       "<Figure size 640x480 with 1 Axes>"
      ]
     },
     "metadata": {},
     "output_type": "display_data"
    }
   ],
   "source": [
    "# Plot the bar graph\n",
    "plt.figure()\n",
    "sns.barplot(x='Algorithm', y='Testing_accuracy', data=df1, palette='pastel')\n",
    "plt.xticks(rotation=45, ha='right')\n",
    "plt.xlabel('Algorithm')\n",
    "plt.ylabel('Testing_accuracy')\n",
    "plt.title('Accuracy of Different Algorithms')\n",
    "plt.tight_layout()\n",
    "\n",
    "# Show the plot\n",
    "plt.show()"
   ]
  },
  {
   "cell_type": "code",
   "execution_count": 124,
   "id": "b3e75317-7177-45a0-bbd0-01e4e9ec0a7a",
   "metadata": {},
   "outputs": [
    {
     "data": {
      "image/png": "[encoded data removed]",
      "text/plain": [
       "<Figure size 640x480 with 1 Axes>"
      ]
     },
     "metadata": {},
     "output_type": "display_data"
    }
   ],
   "source": [
    "# Plot the bar graph\n",
    "plt.figure()\n",
    "sns.barplot(x='Algorithm', y='Training_accuracy', data=df1, palette='pastel')\n",
    "plt.xticks(rotation=45, ha='right')\n",
    "plt.xlabel('Algorithm')\n",
    "plt.ylabel('Training_accuracy')\n",
    "plt.title('Accuracy of Different Algorithms')\n",
    "plt.tight_layout()\n",
    "\n",
    "# Show the plot\n",
    "plt.show()"
   ]
  }
 ],
 "metadata": {
  "kernelspec": {
   "display_name": "Python 3 (ipykernel)",
   "language": "python",
   "name": "python3"
  },
  "language_info": {
   "codemirror_mode": {
    "name": "ipython",
    "version": 3
   },
   "file_extension": ".py",
   "mimetype": "text/x-python",
   "name": "python",
   "nbconvert_exporter": "python",
   "pygments_lexer": "ipython3",
   "version": "3.11.7"
  }
 },
 "nbformat": 4,
 "nbformat_minor": 5
}
